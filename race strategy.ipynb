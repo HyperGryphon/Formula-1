{
 "cells": [
  {
   "cell_type": "code",
   "execution_count": 1,
   "metadata": {},
   "outputs": [],
   "source": [
    "import fastf1 as ff1\n",
    "from fastf1 import plotting\n",
    "from matplotlib import pyplot as plt\n",
    "from matplotlib.pyplot import figure\n",
    "import numpy as np\n",
    "import pandas as pd"
   ]
  },
  {
   "cell_type": "code",
   "execution_count": 2,
   "metadata": {},
   "outputs": [],
   "source": [
    "# Enable the cache\n",
    "ff1.Cache.enable_cache('cache') "
   ]
  },
  {
   "cell_type": "code",
   "execution_count": 3,
   "metadata": {},
   "outputs": [
    {
     "name": "stderr",
     "output_type": "stream",
     "text": [
      "core           INFO \tLoading laps for Russian Grand Prix - Race [v2.1.13]\n",
      "api            INFO \tNo cached data found for timing_data. Loading data...\n",
      "api            INFO \tFetching timing data...\n",
      "api            INFO \tParsing timing data...\n",
      "api            INFO \tData has been written to cache!\n",
      "api            INFO \tNo cached data found for timing_app_data. Loading data...\n",
      "api            INFO \tFetching timing app data...\n",
      "api            INFO \tData has been written to cache!\n",
      "core           INFO \tProcessing timing data...\n",
      "api            INFO \tNo cached data found for driver_info. Loading data...\n",
      "api            INFO \tFetching driver list...\n",
      "api            INFO \tData has been written to cache!\n",
      "api            INFO \tNo cached data found for session_status_data. Loading data...\n",
      "api            INFO \tFetching session status data...\n",
      "api            INFO \tData has been written to cache!\n",
      "api            INFO \tNo cached data found for track_status_data. Loading data...\n",
      "api            INFO \tFetching track status data...\n",
      "api            INFO \tData has been written to cache!\n",
      "api            INFO \tNo cached data found for car_data. Loading data...\n",
      "api            INFO \tFetching car data...\n",
      "api            INFO \tParsing car data...\n",
      "api            INFO \tData has been written to cache!\n",
      "api            INFO \tNo cached data found for position_data. Loading data...\n",
      "api            INFO \tFetching position data...\n",
      "api            INFO \tParsing position data...\n",
      "api            INFO \tData has been written to cache!\n",
      "api            INFO \tNo cached data found for weather_data. Loading data...\n",
      "api            INFO \tFetching weather data...\n",
      "api            INFO \tData has been written to cache!\n",
      "core           INFO \tLoaded data for 20 drivers: ['10', '18', '6', '33', '99', '5', '7', '3', '14', '63', '55', '47', '22', '4', '77', '9', '16', '11', '31', '44']\n"
     ]
    }
   ],
   "source": [
    "year = 2021\n",
    "circuit = 'Russia'\n",
    "\n",
    "# Load the session data\n",
    "race = ff1.get_session(year, circuit, 'R')\n",
    "laps = race.load_laps(with_telemetry=True)"
   ]
  },
  {
   "cell_type": "code",
   "execution_count": 4,
   "metadata": {},
   "outputs": [],
   "source": [
    "driver_stints = laps[['Driver', 'Stint', 'Compound', 'LapNumber']].groupby(\n",
    "    ['Driver', 'Stint', 'Compound']\n",
    ").count().reset_index()"
   ]
  },
  {
   "cell_type": "code",
   "execution_count": 5,
   "metadata": {},
   "outputs": [],
   "source": [
    "driver_stints = driver_stints.rename(columns={'LapNumber': 'StintLength'})\n",
    "\n",
    "driver_stints = driver_stints.sort_values(by=['Stint'])"
   ]
  },
  {
   "cell_type": "code",
   "execution_count": 6,
   "metadata": {},
   "outputs": [],
   "source": [
    "compound_colors = {\n",
    "    'SOFT': '#FF3333',\n",
    "    'MEDIUM': '#FFF200',\n",
    "    'HARD': '#EBEBEB',\n",
    "    'INTERMEDIATE': '#39B54A',\n",
    "    'WET': '#00AEEF',\n",
    "}"
   ]
  },
  {
   "cell_type": "code",
   "execution_count": 7,
   "metadata": {},
   "outputs": [
    {
     "data": {
      "image/png": "[encoded data removed]",
      "text/plain": [
       "<Figure size 1080x720 with 1 Axes>"
      ]
     },
     "metadata": {
      "needs_background": "light"
     },
     "output_type": "display_data"
    }
   ],
   "source": [
    "plt.rcParams[\"figure.figsize\"] = [15, 10]\n",
    "plt.rcParams[\"figure.autolayout\"] = True\n",
    "\n",
    "fig, ax = plt.subplots()\n",
    "\n",
    "for driver in [driver['Driver']['code'] for driver in race.results]:\n",
    "    stints = driver_stints.loc[driver_stints['Driver'] == driver]\n",
    "    \n",
    "    previous_stint_end = 0\n",
    "    for _, stint in stints.iterrows():\n",
    "        plt.barh(\n",
    "            [driver], \n",
    "            stint['StintLength'], \n",
    "            left=previous_stint_end, \n",
    "            color=compound_colors[stint['Compound']], \n",
    "            edgecolor = \"black\"\n",
    "        )\n",
    "        \n",
    "        previous_stint_end = previous_stint_end + stint['StintLength']\n",
    "        \n",
    "# Set title\n",
    "plt.title(f'Race strategy - {circuit} {year}')\n",
    "        \n",
    "# Set x-label\n",
    "plt.xlabel('Lap')\n",
    "\n",
    "# Invert y-axis \n",
    "plt.gca().invert_yaxis()\n",
    "\n",
    "# Remove frame from plot\n",
    "ax.spines['top'].set_visible(False)\n",
    "ax.spines['right'].set_visible(False)\n",
    "ax.spines['left'].set_visible(False)\n",
    "\n",
    "plt.savefig('strategy_russia.png', dpi=300)\n",
    "\n",
    "plt.show()"
   ]
  },
  {
   "cell_type": "code",
   "execution_count": null,
   "metadata": {},
   "outputs": [],
   "source": []
  }
 ],
 "metadata": {
  "kernelspec": {
   "display_name": "Python 3 (ipykernel)",
   "language": "python",
   "name": "python3"
  },
  "language_info": {
   "codemirror_mode": {
    "name": "ipython",
    "version": 3
   },
   "file_extension": ".py",
   "mimetype": "text/x-python",
   "name": "python",
   "nbconvert_exporter": "python",
   "pygments_lexer": "ipython3",
   "version": "3.9.5"
  }
 },
 "nbformat": 4,
 "nbformat_minor": 4
}
